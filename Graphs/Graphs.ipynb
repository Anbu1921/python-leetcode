{
 "cells": [
  {
   "cell_type": "code",
   "execution_count": 1,
   "id": "4685edfb-b089-4e24-9ced-d11534b9e3e1",
   "metadata": {},
   "outputs": [
    {
     "data": {
      "text/plain": [
       "[[0, 1], [1, 2], [0, 3], [3, 4], [3, 6], [3, 7], [4, 2], [4, 5], [5, 2]]"
      ]
     },
     "execution_count": 1,
     "metadata": {},
     "output_type": "execute_result"
    }
   ],
   "source": [
    "# Array of Edges (Directed) [Start, End]\n",
    "n = 8\n",
    "A = [[0, 1], [1, 2], [0, 3], [3, 4], [3, 6], [3, 7], [4, 2], [4, 5], [5, 2]]\n",
    "A"
   ]
  },
  {
   "cell_type": "code",
   "execution_count": 4,
   "id": "a0ba1a3c-728c-4b45-a1ec-46b1fe5ca920",
   "metadata": {},
   "outputs": [
    {
     "data": {
      "text/plain": [
       "[[0, 1, 0, 1, 0, 0, 0, 0],\n",
       " [0, 0, 1, 0, 0, 0, 0, 0],\n",
       " [0, 0, 0, 0, 0, 0, 0, 0],\n",
       " [0, 0, 0, 0, 1, 0, 1, 1],\n",
       " [0, 0, 1, 0, 0, 1, 0, 0],\n",
       " [0, 0, 1, 0, 0, 0, 0, 0],\n",
       " [0, 0, 0, 0, 0, 0, 0, 0],\n",
       " [0, 0, 0, 0, 0, 0, 0, 0]]"
      ]
     },
     "execution_count": 4,
     "metadata": {},
     "output_type": "execute_result"
    }
   ],
   "source": [
    "# Convert Array of Edges -> Adjacency Matrix\n",
    "M = []\n",
    "\n",
    "for i in range(n):\n",
    "    M.append([0] * n)\n",
    "\n",
    "for u, v in A:\n",
    "    M[u][v] = 1\n",
    "\n",
    "    # If the graph is undirected\n",
    "    # M[v][u] = 1 \n",
    "M"
   ]
  },
  {
   "cell_type": "code",
   "execution_count": 7,
   "id": "e0866816-42da-4692-ad71-117a0f51dd7b",
   "metadata": {},
   "outputs": [
    {
     "data": {
      "text/plain": [
       "defaultdict(list, {0: [1, 3], 1: [2], 3: [4, 6, 7], 4: [2, 5], 5: [2]})"
      ]
     },
     "execution_count": 7,
     "metadata": {},
     "output_type": "execute_result"
    }
   ],
   "source": [
    "# Convert Array of Edges -> Adjacency List\n",
    "from collections import defaultdict\n",
    "D = defaultdict(list)\n",
    "\n",
    "for u, v in A:\n",
    "    D[u].append(v)\n",
    "\n",
    "    # If the graph is undirected\n",
    "    # D[u].append(v) \n",
    "D"
   ]
  },
  {
   "cell_type": "code",
   "execution_count": 11,
   "id": "c5cc9696-8d4b-43c8-8509-ad146529be88",
   "metadata": {},
   "outputs": [
    {
     "name": "stdout",
     "output_type": "stream",
     "text": [
      "0\n",
      "1\n",
      "2\n",
      "3\n",
      "4\n",
      "5\n",
      "6\n",
      "7\n"
     ]
    }
   ],
   "source": [
    "# DFS with Recursion - O(V + E) Where V is the number of nodes and E is the number of edges\n",
    "def dfs_recursion(node):\n",
    "    print(node)\n",
    "    for nei_node in D[node]:\n",
    "        if nei_node not in seen:\n",
    "            seen.add(nei_node)\n",
    "            dfs_recursion(nei_node)\n",
    "\n",
    "source = 0\n",
    "seen = set()\n",
    "seen.add(source)\n",
    "dfs_recursion(source)"
   ]
  },
  {
   "cell_type": "code",
   "execution_count": 10,
   "id": "a29f82a8-fc66-4446-b8d2-3c23bcfa0542",
   "metadata": {},
   "outputs": [
    {
     "name": "stdout",
     "output_type": "stream",
     "text": [
      "0\n",
      "3\n",
      "7\n",
      "6\n",
      "4\n",
      "5\n",
      "2\n",
      "2\n",
      "1\n",
      "2\n"
     ]
    }
   ],
   "source": [
    "# Iterative DFS with stack - O(V + E)\n",
    "source = 0\n",
    "seen = set()\n",
    "seen.add(source)\n",
    "stack = [source]\n",
    "\n",
    "while stack:\n",
    "    node = stack.pop()\n",
    "    print(node)\n",
    "    for nei_node in D[node]:\n",
    "        seen.add(nei_node)\n",
    "        stack.append(nei_node)"
   ]
  },
  {
   "cell_type": "code",
   "execution_count": 13,
   "id": "2ce0581b-76e2-4533-be1c-cf02de75ca7e",
   "metadata": {},
   "outputs": [
    {
     "name": "stdout",
     "output_type": "stream",
     "text": [
      "0\n",
      "1\n",
      "3\n",
      "2\n",
      "4\n",
      "6\n",
      "7\n",
      "2\n",
      "5\n",
      "2\n"
     ]
    }
   ],
   "source": [
    "# BFS (Queue) - O(V + E)\n",
    "from collections import deque\n",
    "\n",
    "source = 0\n",
    "seen = set()\n",
    "seen.add(source)\n",
    "q = deque()\n",
    "q.append(source)\n",
    "\n",
    "while q:\n",
    "    node = q.popleft()\n",
    "    print(node)\n",
    "    for nei_node in D[node]:\n",
    "        seen.add(nei_node)\n",
    "        q.append(nei_node)"
   ]
  },
  {
   "cell_type": "code",
   "execution_count": 20,
   "id": "756bf852-471d-4210-a564-bce42a1ddd18",
   "metadata": {},
   "outputs": [
    {
     "data": {
      "text/plain": [
       "\"A is connected to: ['B']\""
      ]
     },
     "execution_count": 20,
     "metadata": {},
     "output_type": "execute_result"
    }
   ],
   "source": [
    "class Node:\n",
    "    def __init__(self, value):\n",
    "        self.value = value\n",
    "        self.neighbors = []\n",
    "\n",
    "    def __str__(self):\n",
    "        return f'Node({self.value})'\n",
    "\n",
    "    def display(self):\n",
    "        connections = [node.value for node in self.neighbors]\n",
    "        return f'{self.value} is connected to: {connections}'\n",
    "\n",
    "A = Node('A')\n",
    "B = Node('B')\n",
    "C = Node('C')\n",
    "D = Node('D')\n",
    "\n",
    "A.neighbors.append(B)\n",
    "B.neighbors.append(A)\n",
    "\n",
    "C.neighbors.append(D)\n",
    "D.neighbors.append(C)\n",
    "\n",
    "A.display()"
   ]
  },
  {
   "cell_type": "code",
   "execution_count": null,
   "id": "62661a28-4866-48c8-9297-180c816a43d2",
   "metadata": {},
   "outputs": [],
   "source": []
  },
  {
   "cell_type": "code",
   "execution_count": null,
   "id": "daefd9ac-4871-4ba7-8a4b-79e248de5742",
   "metadata": {},
   "outputs": [],
   "source": []
  }
 ],
 "metadata": {
  "kernelspec": {
   "display_name": "Python 3 (ipykernel)",
   "language": "python",
   "name": "python3"
  },
  "language_info": {
   "codemirror_mode": {
    "name": "ipython",
    "version": 3
   },
   "file_extension": ".py",
   "mimetype": "text/x-python",
   "name": "python",
   "nbconvert_exporter": "python",
   "pygments_lexer": "ipython3",
   "version": "3.13.2"
  }
 },
 "nbformat": 4,
 "nbformat_minor": 5
}
