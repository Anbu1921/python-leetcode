{
 "cells": [
  {
   "cell_type": "code",
   "execution_count": 2,
   "id": "19fef3fd-e174-4261-99bd-a8c5dba162c1",
   "metadata": {},
   "outputs": [
    {
     "data": {
      "text/plain": [
       "[-4, 0, 1, 3, 2, 5, 10, 8, 12, 9]"
      ]
     },
     "execution_count": 2,
     "metadata": {},
     "output_type": "execute_result"
    }
   ],
   "source": [
    "# Build Min heap (Heapify)\n",
    "# Time: O(n) Space: O(1)\n",
    "\n",
    "A = [-4, 3, 1, 0, 2, 5, 10, 8, 12, 9]\n",
    "\n",
    "import heapq\n",
    "heapq.heapify(A)\n",
    "\n",
    "A"
   ]
  },
  {
   "cell_type": "code",
   "execution_count": 4,
   "id": "621696d1-0333-4576-924a-fa94abd47058",
   "metadata": {},
   "outputs": [
    {
     "data": {
      "text/plain": [
       "[-4, 0, 1, 3, 2, 5, 10, 8, 12, 9, 4]"
      ]
     },
     "execution_count": 4,
     "metadata": {},
     "output_type": "execute_result"
    }
   ],
   "source": [
    "# Heap Push (Insert element)\n",
    "# Time: O(log n)\n",
    "heapq.heappush(A, 4)\n",
    "\n",
    "A"
   ]
  },
  {
   "cell_type": "code",
   "execution_count": 5,
   "id": "59af9552-ead3-4c69-9f4c-3d6b57210ba7",
   "metadata": {},
   "outputs": [
    {
     "data": {
      "text/plain": [
       "([0, 2, 1, 3, 4, 5, 10, 8, 12, 9], -4)"
      ]
     },
     "execution_count": 5,
     "metadata": {},
     "output_type": "execute_result"
    }
   ],
   "source": [
    "# Heap Pop (Extract Min)\n",
    "# Time: O(log n)\n",
    "\n",
    "minn = heapq.heappop(A)\n",
    "\n",
    "A, minn"
   ]
  },
  {
   "cell_type": "code",
   "execution_count": 6,
   "id": "3b49a88f-b757-4dc7-84c2-475ff854886a",
   "metadata": {},
   "outputs": [
    {
     "data": {
      "text/plain": [
       "[-4, 0, 1, 2, 3, 5, 8, 9, 10, 12]"
      ]
     },
     "execution_count": 6,
     "metadata": {},
     "output_type": "execute_result"
    }
   ],
   "source": [
    "# Heap Sort\n",
    "# Time: O(n log n) Space: O(n)\n",
    "# Note: O(1) Space is possible via swapping, but this is complex\n",
    "\n",
    "def heapsort(arr):\n",
    "    heapq.heapify(arr)\n",
    "    n = len(arr)\n",
    "    new_list = []\n",
    "\n",
    "    for i in range(n):\n",
    "        minn = heapq.heappop(arr)\n",
    "        new_list.append(minn)\n",
    "\n",
    "    return new_list\n",
    "\n",
    "heapsort([-4, 3, 1, 0, 2, 5, 10, 8, 12, 9])"
   ]
  },
  {
   "cell_type": "code",
   "execution_count": 8,
   "id": "7a384979-e53b-49b9-806b-a29d62f0a54b",
   "metadata": {},
   "outputs": [
    {
     "data": {
      "text/plain": [
       "[1, 2, 5, 3, 4, 99, 10, 8, 12, 9]"
      ]
     },
     "execution_count": 8,
     "metadata": {},
     "output_type": "execute_result"
    }
   ],
   "source": [
    "# Heap Push Pop: Time: O(log n)\n",
    "\n",
    "heapq.heappushpop(A, 99)\n",
    "A"
   ]
  },
  {
   "cell_type": "code",
   "execution_count": 14,
   "id": "3ce3815e-d191-4b72-859c-b46485dcac90",
   "metadata": {},
   "outputs": [
    {
     "data": {
      "text/plain": [
       "1"
      ]
     },
     "execution_count": 14,
     "metadata": {},
     "output_type": "execute_result"
    }
   ],
   "source": [
    "# Peak at Min: Time: O(1)\n",
    "A[0]"
   ]
  },
  {
   "cell_type": "code",
   "execution_count": 9,
   "id": "0fd282a0-b98a-422c-9196-96dd39b87f77",
   "metadata": {},
   "outputs": [
    {
     "data": {
      "text/plain": [
       "[-12, -9, -10, -8, -2, -5, -1, -3, 0, 4]"
      ]
     },
     "execution_count": 9,
     "metadata": {},
     "output_type": "execute_result"
    }
   ],
   "source": [
    "# Max Heap\n",
    "\n",
    "B = [-4, 3, 1, 0, 2, 5, 10, 8, 12, 9]\n",
    "n = len(B)\n",
    "\n",
    "for i in range(n):\n",
    "    B[i] = -B[i]\n",
    "\n",
    "heapq.heapify(B)\n",
    "B"
   ]
  },
  {
   "cell_type": "code",
   "execution_count": 12,
   "id": "9b68ad45-87e6-4d4f-b4b4-93b4b133a11c",
   "metadata": {},
   "outputs": [
    {
     "data": {
      "text/plain": [
       "12"
      ]
     },
     "execution_count": 12,
     "metadata": {},
     "output_type": "execute_result"
    }
   ],
   "source": [
    "longest = - heapq.heappop(B)\n",
    "longest"
   ]
  },
  {
   "cell_type": "code",
   "execution_count": 13,
   "id": "a29fa433-3def-4306-adfe-7c5aa6bc9a30",
   "metadata": {},
   "outputs": [
    {
     "data": {
      "text/plain": [
       "[-10, -9, -5, -8, -7, 4, -1, -3, 0, -2]"
      ]
     },
     "execution_count": 13,
     "metadata": {},
     "output_type": "execute_result"
    }
   ],
   "source": [
    "heapq.heappush(B, -7) # Insert 7 into max heap\n",
    "\n",
    "B"
   ]
  },
  {
   "cell_type": "code",
   "execution_count": 18,
   "id": "a07a0343-7476-4db4-a03c-a8a418ae0314",
   "metadata": {},
   "outputs": [
    {
     "name": "stdout",
     "output_type": "stream",
     "text": [
      "[-5] 1\n",
      "[-5, 4] 2\n",
      "[-5, 4, 2] 3\n",
      "[-5, 1, 2, 4] 4\n",
      "[-5, 1, 2, 4, 7] 5\n",
      "[-5, 1, 0, 4, 7, 2] 6\n",
      "[-5, 1, 0, 4, 7, 2, 3] 7\n"
     ]
    }
   ],
   "source": [
    "# Build Heap from scratch -> Time: O(n log n)\n",
    "\n",
    "C = [-5, 4, 2, 1, 7, 0, 3]\n",
    "\n",
    "heap = []\n",
    "\n",
    "for x in C:\n",
    "    heapq.heappush(heap, x)\n",
    "    print(heap, len(heap))"
   ]
  },
  {
   "cell_type": "code",
   "execution_count": 19,
   "id": "71214e56-b97d-4dfc-b110-a366939259ed",
   "metadata": {},
   "outputs": [
    {
     "data": {
      "text/plain": [
       "Counter({5: 4, 4: 3, 3: 1})"
      ]
     },
     "execution_count": 19,
     "metadata": {},
     "output_type": "execute_result"
    }
   ],
   "source": [
    "# Putting tuples of items on the heap\n",
    "\n",
    "D = [5, 4, 3, 5, 4, 5, 5, 4]\n",
    "\n",
    "from collections import Counter\n",
    "\n",
    "counter = Counter(D)\n",
    "counter"
   ]
  },
  {
   "cell_type": "code",
   "execution_count": 20,
   "id": "26d3625f-7591-4a23-a35b-e7f0222ae1f0",
   "metadata": {},
   "outputs": [
    {
     "data": {
      "text/plain": [
       "[(1, 3), (4, 5), (3, 4)]"
      ]
     },
     "execution_count": 20,
     "metadata": {},
     "output_type": "execute_result"
    }
   ],
   "source": [
    "heap = []\n",
    "\n",
    "for k, v in counter.items():\n",
    "    heapq.heappush(heap, (v, k))\n",
    "\n",
    "heap"
   ]
  }
 ],
 "metadata": {
  "kernelspec": {
   "display_name": "Python 3 (ipykernel)",
   "language": "python",
   "name": "python3"
  },
  "language_info": {
   "codemirror_mode": {
    "name": "ipython",
    "version": 3
   },
   "file_extension": ".py",
   "mimetype": "text/x-python",
   "name": "python",
   "nbconvert_exporter": "python",
   "pygments_lexer": "ipython3",
   "version": "3.13.2"
  }
 },
 "nbformat": 4,
 "nbformat_minor": 5
}
